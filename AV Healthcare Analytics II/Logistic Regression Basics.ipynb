{
 "cells": [
  {
   "cell_type": "markdown",
   "id": "4ac56310",
   "metadata": {},
   "source": [
    "# Logistic Regression Basics"
   ]
  },
  {
   "cell_type": "markdown",
   "id": "f97f4775",
   "metadata": {},
   "source": [
    "Author: Dr Jessica Caterson\n",
    "\n",
    "[GitHub Profile](https://github.com/jjcato9)"
   ]
  },
  {
   "cell_type": "markdown",
   "id": "12732c81",
   "metadata": {},
   "source": [
    "This python tutorial will cover logisitic regression. We will then apply the statistical theory to an example of a dataset assessing high versus low-risk of prolonged hospital length of stay."
   ]
  },
  {
   "cell_type": "markdown",
   "id": "243b0c79",
   "metadata": {},
   "source": [
    "## Part 1: What is Logistic Regression?"
   ]
  },
  {
   "cell_type": "markdown",
   "id": "87d9cc60",
   "metadata": {},
   "source": [
    "Logistic regression is a form of generalised linear modelling which has a discrete outcome e.g. disease vs no disease, side effect vs no side effect, treatment vs no treatment. \n",
    "\n",
    "The simplest logistic model relates one covariate (X) to one outcome (Y) which is either present or absent. Logistic regression then calculates the probability of the outcome Y given a certain value X. This can be written simply as:\n",
    "\n",
    "$ Y = \\beta0 + \\beta1X $\n",
    "\n",
    "- Where $ \\beta0 $ and $ \\beta1 $ are coefficients which influence the outcome Y\n",
    "\n",
    "The **link function** is the function used to link the probability with the above model. For a logistic regression, the link funcition is also called the **logit function**, which is as follows:\n",
    "\n",
    "$ logit(\\pi) = log(\\pi / 1-\\pi) $\n",
    "\n",
    "From this link function, we can therefore transform logit(\\pi) to find \\pi, the probability, with the following equation:\n",
    "\n",
    "If: $ logit(\\pi) = L $\n",
    "\n",
    "$ \\pi = exp(L)/(1 + exp(L)) $"
   ]
  },
  {
   "cell_type": "markdown",
   "id": "31fdeeee",
   "metadata": {},
   "source": [
    "### So what does this all mean in real terms?\n",
    "\n",
    "The maths above may look a bit daunting, but it's really important when interpreting your logistic regression models. This is because, by understanding the maths, you can understand the estimates of certain parameters of your model. \n",
    "\n",
    "The key outputs from logistic regression are Odds and Odds Ratios: \n",
    "\n",
    "- **Odds** describes the proportion of one outcome compared with another.\n",
    "\n",
    "- **Odds Ratios** describe the change in odds between two groups e.g. exposed and non-exposed.\n",
    "\n",
    "For example, lets say patients who smoke have an Odds of 2 for developing lung cancer in the next 10 years...\n",
    "*This means, for every smoker than doesn't develop lung cancer in the next ten years, 2 will.*\n",
    "\n",
    "Conversely, lets say the odds ratio of developing lung cancer between smokers and non-smokers is 3. This means, that smokers have three times the Odds of non-smokers of developing lung cancer."
   ]
  },
  {
   "cell_type": "markdown",
   "id": "e9388e15",
   "metadata": {},
   "source": [
    "### So how do we calculate odds and odds ratios from logistic regression?\n",
    "Let's return to our simple logistic regression model:\n",
    "$ Y = \\beta0 + \\beta1X $\n",
    "\n",
    "Here, we can say that:\n",
    "\n",
    "$logit(\\pi) = \\beta0 + \\beta1X $\n",
    "\n",
    "Consequently,\n",
    "\n",
    "- $\\beta0$ = log-odds of non-exposed group (i.e. X = 0)\n",
    "- $\\beta1$ = log-odds of exposed group (i.e. X = 1)\n",
    "\n",
    "If we take the exponential of these values, we get the odds:\n",
    "\n",
    "- $exp(\\beta0)$ = odds of non-exposed group\n",
    "- $exp(\\beta0 + \\beta1)$ = log-odds of exposed group (i.e. X = 1)\n",
    "\n",
    "Remebering our indices rules... we know that $ x^a * x^b = x^{a+b} $\n",
    "\n",
    "Therefore, $exp(\\beta0 + \\beta1) = exp(\\beta0) * exp(\\beta1)$ \n",
    "\n",
    "This means that $exp(\\beta1)$ represents the odds ratio between the unexposed and exposed groups."
   ]
  },
  {
   "cell_type": "markdown",
   "id": "87bbd19d",
   "metadata": {},
   "source": [
    "### Estimation of the Odds & Odds Ratios\n",
    "\n",
    "When we have a dataset that we wish to apply logistic regression to, we are using sample data to infer information about a true population. We cannot quantify this true populatiom, and therefore, the outputs of our model produce estimates of the true parameters. Because they are estimates, they inevitably have error. It is important to calculate this error along with our estimates when presenting results.\n",
    "\n",
    "#### Estimation of the Parameters: Odds & Odds Ratios\n",
    "In logistic regression, we use Maximum Likelihood Estimation to estimate the odds and odds ratios. A discussion of this is beyond the scope of this workbook.\n",
    "\n",
    "#### Confidence Intervals\n",
    "In frequentist statistics (which we are discussing here), 95% confidence intervals represent a range of values, for which, if we repeated our sampling of the true population an infinite number of times, 95% of our estimate ranges would contain the true population parameter. \n",
    "\n",
    "The choice of 95%, whilst widely used in healthcare, is abitrary, and can be replaced with any % value with acceptable false positive rate $\\alpha$ for (100-$\\alpha$)% confidence.\n",
    "\n",
    "There are two methods to calculate confidence intervals for logistic regression: Wald-Type and Profile Likelihood\n",
    "- **Wald-Type** Confidence Intervals are similar to what you may have encountered previously, where 95% CIs are given by:\n",
    "\n",
    "$$ Estimate \\pm 1.96 * Estimate Standard Error $$\n",
    "\n",
    "\n",
    "- **Profile Likelihood** Confidence Intervals are more complex, and depend on the log-likelihood ratio of the parameters of interest"
   ]
  },
  {
   "cell_type": "markdown",
   "id": "211edf7b",
   "metadata": {},
   "source": [
    "## Part 2: Logistic Regression in Practice"
   ]
  },
  {
   "cell_type": "markdown",
   "id": "bd5940dd",
   "metadata": {},
   "source": [
    "Now that we've very briefly covered the theory behind logistic regression, let's apply this with some real data. For this, we will use the [Healthcare Analytics II Dataset](https://www.kaggle.com/datasets/nehaprabhavalkar/av-healthcare-analytics-ii?resource=download) available on Kaggle.\n",
    "\n",
    "Download the folder, and save into the same folder as this notebook."
   ]
  },
  {
   "cell_type": "markdown",
   "id": "c02f2951",
   "metadata": {},
   "source": [
    "Enough reading... lets take a look at the data"
   ]
  },
  {
   "cell_type": "code",
   "execution_count": 3,
   "id": "338fee1f",
   "metadata": {},
   "outputs": [
    {
     "data": {
      "text/html": [
       "<div>\n",
       "<style scoped>\n",
       "    .dataframe tbody tr th:only-of-type {\n",
       "        vertical-align: middle;\n",
       "    }\n",
       "\n",
       "    .dataframe tbody tr th {\n",
       "        vertical-align: top;\n",
       "    }\n",
       "\n",
       "    .dataframe thead th {\n",
       "        text-align: right;\n",
       "    }\n",
       "</style>\n",
       "<table border=\"1\" class=\"dataframe\">\n",
       "  <thead>\n",
       "    <tr style=\"text-align: right;\">\n",
       "      <th></th>\n",
       "      <th>case_id</th>\n",
       "      <th>Hospital_code</th>\n",
       "      <th>Hospital_type_code</th>\n",
       "      <th>City_Code_Hospital</th>\n",
       "      <th>Hospital_region_code</th>\n",
       "      <th>Available Extra Rooms in Hospital</th>\n",
       "      <th>Department</th>\n",
       "      <th>Ward_Type</th>\n",
       "      <th>Ward_Facility_Code</th>\n",
       "      <th>Bed Grade</th>\n",
       "      <th>patientid</th>\n",
       "      <th>City_Code_Patient</th>\n",
       "      <th>Type of Admission</th>\n",
       "      <th>Severity of Illness</th>\n",
       "      <th>Visitors with Patient</th>\n",
       "      <th>Age</th>\n",
       "      <th>Admission_Deposit</th>\n",
       "      <th>Stay</th>\n",
       "    </tr>\n",
       "  </thead>\n",
       "  <tbody>\n",
       "    <tr>\n",
       "      <th>0</th>\n",
       "      <td>1</td>\n",
       "      <td>8</td>\n",
       "      <td>c</td>\n",
       "      <td>3</td>\n",
       "      <td>Z</td>\n",
       "      <td>3</td>\n",
       "      <td>radiotherapy</td>\n",
       "      <td>R</td>\n",
       "      <td>F</td>\n",
       "      <td>2.0</td>\n",
       "      <td>31397</td>\n",
       "      <td>7.0</td>\n",
       "      <td>Emergency</td>\n",
       "      <td>Extreme</td>\n",
       "      <td>2</td>\n",
       "      <td>51-60</td>\n",
       "      <td>4911.0</td>\n",
       "      <td>0-10</td>\n",
       "    </tr>\n",
       "    <tr>\n",
       "      <th>1</th>\n",
       "      <td>2</td>\n",
       "      <td>2</td>\n",
       "      <td>c</td>\n",
       "      <td>5</td>\n",
       "      <td>Z</td>\n",
       "      <td>2</td>\n",
       "      <td>radiotherapy</td>\n",
       "      <td>S</td>\n",
       "      <td>F</td>\n",
       "      <td>2.0</td>\n",
       "      <td>31397</td>\n",
       "      <td>7.0</td>\n",
       "      <td>Trauma</td>\n",
       "      <td>Extreme</td>\n",
       "      <td>2</td>\n",
       "      <td>51-60</td>\n",
       "      <td>5954.0</td>\n",
       "      <td>41-50</td>\n",
       "    </tr>\n",
       "    <tr>\n",
       "      <th>2</th>\n",
       "      <td>3</td>\n",
       "      <td>10</td>\n",
       "      <td>e</td>\n",
       "      <td>1</td>\n",
       "      <td>X</td>\n",
       "      <td>2</td>\n",
       "      <td>anesthesia</td>\n",
       "      <td>S</td>\n",
       "      <td>E</td>\n",
       "      <td>2.0</td>\n",
       "      <td>31397</td>\n",
       "      <td>7.0</td>\n",
       "      <td>Trauma</td>\n",
       "      <td>Extreme</td>\n",
       "      <td>2</td>\n",
       "      <td>51-60</td>\n",
       "      <td>4745.0</td>\n",
       "      <td>31-40</td>\n",
       "    </tr>\n",
       "    <tr>\n",
       "      <th>3</th>\n",
       "      <td>4</td>\n",
       "      <td>26</td>\n",
       "      <td>b</td>\n",
       "      <td>2</td>\n",
       "      <td>Y</td>\n",
       "      <td>2</td>\n",
       "      <td>radiotherapy</td>\n",
       "      <td>R</td>\n",
       "      <td>D</td>\n",
       "      <td>2.0</td>\n",
       "      <td>31397</td>\n",
       "      <td>7.0</td>\n",
       "      <td>Trauma</td>\n",
       "      <td>Extreme</td>\n",
       "      <td>2</td>\n",
       "      <td>51-60</td>\n",
       "      <td>7272.0</td>\n",
       "      <td>41-50</td>\n",
       "    </tr>\n",
       "    <tr>\n",
       "      <th>4</th>\n",
       "      <td>5</td>\n",
       "      <td>26</td>\n",
       "      <td>b</td>\n",
       "      <td>2</td>\n",
       "      <td>Y</td>\n",
       "      <td>2</td>\n",
       "      <td>radiotherapy</td>\n",
       "      <td>S</td>\n",
       "      <td>D</td>\n",
       "      <td>2.0</td>\n",
       "      <td>31397</td>\n",
       "      <td>7.0</td>\n",
       "      <td>Trauma</td>\n",
       "      <td>Extreme</td>\n",
       "      <td>2</td>\n",
       "      <td>51-60</td>\n",
       "      <td>5558.0</td>\n",
       "      <td>41-50</td>\n",
       "    </tr>\n",
       "  </tbody>\n",
       "</table>\n",
       "</div>"
      ],
      "text/plain": [
       "   case_id  Hospital_code Hospital_type_code  City_Code_Hospital  \\\n",
       "0        1              8                  c                   3   \n",
       "1        2              2                  c                   5   \n",
       "2        3             10                  e                   1   \n",
       "3        4             26                  b                   2   \n",
       "4        5             26                  b                   2   \n",
       "\n",
       "  Hospital_region_code  Available Extra Rooms in Hospital    Department  \\\n",
       "0                    Z                                  3  radiotherapy   \n",
       "1                    Z                                  2  radiotherapy   \n",
       "2                    X                                  2    anesthesia   \n",
       "3                    Y                                  2  radiotherapy   \n",
       "4                    Y                                  2  radiotherapy   \n",
       "\n",
       "  Ward_Type Ward_Facility_Code  Bed Grade  patientid  City_Code_Patient  \\\n",
       "0         R                  F        2.0      31397                7.0   \n",
       "1         S                  F        2.0      31397                7.0   \n",
       "2         S                  E        2.0      31397                7.0   \n",
       "3         R                  D        2.0      31397                7.0   \n",
       "4         S                  D        2.0      31397                7.0   \n",
       "\n",
       "  Type of Admission Severity of Illness  Visitors with Patient    Age  \\\n",
       "0         Emergency             Extreme                      2  51-60   \n",
       "1            Trauma             Extreme                      2  51-60   \n",
       "2            Trauma             Extreme                      2  51-60   \n",
       "3            Trauma             Extreme                      2  51-60   \n",
       "4            Trauma             Extreme                      2  51-60   \n",
       "\n",
       "   Admission_Deposit   Stay  \n",
       "0             4911.0   0-10  \n",
       "1             5954.0  41-50  \n",
       "2             4745.0  31-40  \n",
       "3             7272.0  41-50  \n",
       "4             5558.0  41-50  "
      ]
     },
     "execution_count": 3,
     "metadata": {},
     "output_type": "execute_result"
    }
   ],
   "source": [
    "import pandas as pd\n",
    "import os\n",
    "#get local working directory\n",
    "cwd = os.getcwd()\n",
    "\n",
    "#open training data set\n",
    "training_data = pd.read_csv(cwd+'/healthcare/train_data.csv')\n",
    "\n",
    "training_data.head()"
   ]
  },
  {
   "cell_type": "markdown",
   "id": "2ff7ff23",
   "metadata": {},
   "source": [
    "For this logistic regression model we are going to see how illness severity influences patient length of stay. Let's take a closer look at each of these parameters."
   ]
  },
  {
   "cell_type": "code",
   "execution_count": 90,
   "id": "7bc3ebe1",
   "metadata": {},
   "outputs": [
    {
     "name": "stdout",
     "output_type": "stream",
     "text": [
      "<class 'pandas.core.frame.DataFrame'>\n",
      "RangeIndex: 318438 entries, 0 to 318437\n",
      "Data columns (total 3 columns):\n",
      " #   Column            Non-Null Count   Dtype \n",
      "---  ------            --------------   ----- \n",
      " 0   case_id           318438 non-null  int64 \n",
      " 1   illness_severity  318438 non-null  object\n",
      " 2   los               318438 non-null  object\n",
      "dtypes: int64(1), object(2)\n",
      "memory usage: 7.3+ MB\n",
      "None\n"
     ]
    }
   ],
   "source": [
    "#filter out relevant parameters and rename columns\n",
    "data = training_data[['case_id','Severity of Illness','Stay']]\n",
    "data = data.rename(columns = {'Severity of Illness':'illness_severity','Stay':'los'})\n",
    "\n",
    "#get data information\n",
    "print(data.info())"
   ]
  },
  {
   "cell_type": "code",
   "execution_count": 91,
   "id": "1651e424",
   "metadata": {},
   "outputs": [
    {
     "name": "stdout",
     "output_type": "stream",
     "text": [
      "Moderate    175843\n",
      "Minor        85872\n",
      "Extreme      56723\n",
      "Name: illness_severity, dtype: int64\n"
     ]
    }
   ],
   "source": [
    "#get unique value counts for each parameter\n",
    "print(data['illness_severity'].value_counts())"
   ]
  },
  {
   "cell_type": "code",
   "execution_count": 31,
   "id": "08839296",
   "metadata": {},
   "outputs": [
    {
     "name": "stdout",
     "output_type": "stream",
     "text": [
      "21-30                 87491\n",
      "11-20                 78139\n",
      "31-40                 55159\n",
      "51-60                 35018\n",
      "0-10                  23604\n",
      "41-50                 11743\n",
      "71-80                 10254\n",
      "More than 100 Days     6683\n",
      "81-90                  4838\n",
      "91-100                 2765\n",
      "61-70                  2744\n",
      "Name: los, dtype: int64\n"
     ]
    }
   ],
   "source": [
    "print(data['los'].value_counts())"
   ]
  },
  {
   "cell_type": "code",
   "execution_count": 111,
   "id": "2b23ee55",
   "metadata": {},
   "outputs": [],
   "source": [
    "#selecting our predictor categories\n",
    "predictors = pd.DataFrame(pd.Categorical(data['illness_severity']))\n",
    "predictors = predictors.rename(columns = {0:'illness_severity'})"
   ]
  },
  {
   "cell_type": "markdown",
   "id": "cd5ce100",
   "metadata": {},
   "source": [
    "For our outcome, we are going to split the data into two outcomes: long length of stay, and short length of stay. This is because, for logistic regression, the maths gets a lot more complex for multiple outcome possibilities. Whilst it is possible to do this, in order to understand the maths behind it, we are going to keep this exampel simple. Here, we define long length of stay as >100 days."
   ]
  },
  {
   "cell_type": "code",
   "execution_count": 105,
   "id": "2a464051",
   "metadata": {},
   "outputs": [
    {
     "name": "stdout",
     "output_type": "stream",
     "text": [
      "[0 0 0 ... 0 0 0]\n"
     ]
    }
   ],
   "source": [
    "#change los from categorical to binary outcome and create a list\n",
    "#Let us set any LOS >10 days as a long length of stay\n",
    "import numpy as np\n",
    "long_los = np.where(data['los'] == ('More than 100 Days'),1,0)\n",
    "print(long_los)"
   ]
  },
  {
   "cell_type": "markdown",
   "id": "32cea4aa",
   "metadata": {},
   "source": [
    "Finally, let's put our predictor and outcome data into a data set for the model"
   ]
  },
  {
   "cell_type": "code",
   "execution_count": 106,
   "id": "2152be59",
   "metadata": {},
   "outputs": [
    {
     "name": "stdout",
     "output_type": "stream",
     "text": [
      "<class 'pandas.core.frame.DataFrame'>\n",
      "RangeIndex: 318438 entries, 0 to 318437\n",
      "Data columns (total 2 columns):\n",
      " #   Column            Non-Null Count   Dtype   \n",
      "---  ------            --------------   -----   \n",
      " 0   illness_severity  318438 non-null  category\n",
      " 1   long_los          318438 non-null  int64   \n",
      "dtypes: category(1), int64(1)\n",
      "memory usage: 2.7 MB\n"
     ]
    }
   ],
   "source": [
    "model_data = predictors\n",
    "model_data['long_los'] = long_los\n",
    "model_data.info()"
   ]
  },
  {
   "cell_type": "markdown",
   "id": "9dd4d964",
   "metadata": {},
   "source": [
    "Now our data is set up appropriately, we can perform Logistic Regression. For this example, we are going to use `statsmodels`. However, multiple other packages offer logistic regression, such as `sklearn` which is particularly useful when using Logistic Regression for machine learning."
   ]
  },
  {
   "cell_type": "code",
   "execution_count": 107,
   "id": "0edab784",
   "metadata": {},
   "outputs": [
    {
     "name": "stdout",
     "output_type": "stream",
     "text": [
      "Optimization terminated successfully.\n",
      "         Current function value: 0.100436\n",
      "         Iterations 8\n",
      "                           Logit Regression Results                           \n",
      "==============================================================================\n",
      "Dep. Variable:               long_los   No. Observations:               318438\n",
      "Model:                          Logit   Df Residuals:                   318435\n",
      "Method:                           MLE   Df Model:                            2\n",
      "Date:                Wed, 04 Jan 2023   Pseudo R-squ.:                 0.01394\n",
      "Time:                        13:14:45   Log-Likelihood:                -31983.\n",
      "converged:                       True   LL-Null:                       -32435.\n",
      "Covariance Type:            nonrobust   LLR p-value:                4.890e-197\n",
      "================================================================================================\n",
      "                                   coef    std err          z      P>|z|      [0.025      0.975]\n",
      "------------------------------------------------------------------------------------------------\n",
      "Intercept                       -3.3354      0.023   -144.732      0.000      -3.381      -3.290\n",
      "illness_severity[T.Minor]       -1.1492      0.040    -28.850      0.000      -1.227      -1.071\n",
      "illness_severity[T.Moderate]    -0.4841      0.028    -17.097      0.000      -0.540      -0.429\n",
      "================================================================================================\n"
     ]
    }
   ],
   "source": [
    "import statsmodels.formula.api as sm\n",
    "\n",
    "model = sm.logit('long_los ~ illness_severity',model_data).fit()\n",
    "\n",
    "print(model.summary())"
   ]
  },
  {
   "cell_type": "markdown",
   "id": "516ebf21",
   "metadata": {},
   "source": [
    "Now we have an output, let's consider what this all means. Firstly, you'll notice that each illness severity category has been separated. Here, the logistic regression model has split illness severity, which was a categorical variable into dummy variables. \n",
    "\n",
    "Dummy variables are binary variables which represent each sub-category within a category. For example, for illness severity, we would create two dummy variables: $w_{mod}$ and $w_{min}$. For an individual with severe illness, these variables would both be 0, for moderate illness, $w_{mod}$ is 1 and $w_{min}$ 0 and for minor illness, $w_{min}$ is 1 and $w_{mod}$ is 0.\n",
    "\n",
    "If we want to turn data into dummy variables (which is useful when it comes to machine learning concepts), pandas has a get_dummies function which does all of this for us!"
   ]
  },
  {
   "cell_type": "markdown",
   "id": "518f77c4",
   "metadata": {},
   "source": [
    "But back to our data... the coefficients shown are the log-odds (for the intercept) and log-odds ratios for minor anbd moderate illness severities where the intercept represents severe illness. Each log-odds ratio is compared with this intercept group. We can noe exponentiate these values to get the odds and odds ratios for the different groups."
   ]
  },
  {
   "cell_type": "code",
   "execution_count": 109,
   "id": "ee6519ab",
   "metadata": {},
   "outputs": [
    {
     "name": "stdout",
     "output_type": "stream",
     "text": [
      "Odds Severe:0.03560148248224058\n",
      "Odds Ratio Minor:0.31689699925659315\n",
      "Odds Ratio Moderate:0.6162384072368543\n",
      "Odds Minor:0.011282002967708205\n",
      "Odds Moderate:0.0219390008601267\n"
     ]
    }
   ],
   "source": [
    "import math\n",
    "#odds of long length of stay for severe illness\n",
    "log_odds_severe = model.params[0]\n",
    "odds_severe = math.exp(log_odds_severe)\n",
    "\n",
    "#odds ratios for minor and moderate illness\n",
    "log_or_minor = model.params[1]\n",
    "or_minor = math.exp(log_or_minor)\n",
    "\n",
    "log_or_mod = model.params[2]\n",
    "or_mod = math.exp(log_or_mod)\n",
    "\n",
    "print('Odds Severe:' + str(odds_severe))\n",
    "print('Odds Ratio Minor:' + str(or_minor))\n",
    "print('Odds Ratio Moderate:' + str(or_mod))\n",
    "\n",
    "#odds for minor and moderate groups\n",
    "beta0_add_beta1 = model.params[0] + model.params[1]\n",
    "beta0_add_beta2 = model.params[0] + model.params[2]\n",
    "\n",
    "odds_minor = math.exp(beta0_add_beta1)\n",
    "odds_mod = math.exp(beta0_add_beta2)\n",
    "\n",
    "print('Odds Minor:' + str(odds_minor))\n",
    "print('Odds Moderate:' + str(odds_mod))"
   ]
  },
  {
   "cell_type": "markdown",
   "id": "ff8a7856",
   "metadata": {},
   "source": [
    "### Interpretation\n",
    "So what can we say from this model?\n",
    "\n",
    "The Odds of having a length of stay >100 days for severe illness is 0.035. This is compared with 0.011 for minor illnesses and 0.022 for moderate illnesses. The odds ratios between severe & minor and severe and moderate illness are 0.32 and 0.62 respectively.\n",
    "\n",
    "If we return to our model summary, we can see that the P>|z| values are 0.00 for each of these outputs. Given the null hypothesis is that there is no difference in odds of LOS >100 days for severity of illness, P>|z| which represent p-values give us strong evidence to reject this null hypothesis. Therefore, there appears to be an association between illness severity and LOS >100 days. Confidence Intervals for the log-odds are also shown in the model output. We can convert these log values to get 95% CIs for odds and odds ratios. "
   ]
  },
  {
   "cell_type": "code",
   "execution_count": 110,
   "id": "43c4ccce",
   "metadata": {},
   "outputs": [
    {
     "name": "stdout",
     "output_type": "stream",
     "text": [
      "                                    OR  Lower CI  Upper CI\n",
      "Intercept                     0.035601  0.034029  0.037246\n",
      "illness_severity[T.Minor]     0.316897  0.293097  0.342629\n",
      "illness_severity[T.Moderate]  0.616238  0.582970  0.651405\n"
     ]
    }
   ],
   "source": [
    "odds_ratios = pd.DataFrame({\"OR\": model.params,\n",
    "        \"Lower CI\": model.conf_int()[0],\n",
    "        \"Upper CI\": model.conf_int()[1],})\n",
    "\n",
    "odds_ratios = np.exp(odds_ratios)\n",
    "print(odds_ratios)"
   ]
  },
  {
   "cell_type": "markdown",
   "id": "a29cf1c5",
   "metadata": {},
   "source": [
    "## Next Steps\n",
    "This notebook has covered some of the basics of logistic regression. It is possible to see how different factors affect hospital length of stay. You may also wish to change the definition of long length of stay, and see how this affects the model outputs. By adding in multiple factors, you can adjust for these e.g. age may affect the influence of disease severity on length of stay, by including this, you adjust for it.\n",
    "\n",
    "Logistic Regression can also be used to predict outcomes for unseen data. This is the basis of some machine learning algorithms. This will be discussed elsewhere. "
   ]
  }
 ],
 "metadata": {
  "kernelspec": {
   "display_name": "Python 3",
   "language": "python",
   "name": "python3"
  },
  "language_info": {
   "codemirror_mode": {
    "name": "ipython",
    "version": 3
   },
   "file_extension": ".py",
   "mimetype": "text/x-python",
   "name": "python",
   "nbconvert_exporter": "python",
   "pygments_lexer": "ipython3",
   "version": "3.8.8"
  }
 },
 "nbformat": 4,
 "nbformat_minor": 5
}
